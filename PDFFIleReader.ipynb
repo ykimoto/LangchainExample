{
 "cells": [
  {
   "cell_type": "code",
   "execution_count": null,
   "metadata": {},
   "outputs": [],
   "source": [
    "# Install and Import all required libraries\n",
    "\n",
    "%pip install openai pandas cassandra-driver cassio langchain PyMuPDF\n",
    "from cassandra.cluster import Cluster\n",
    "from cassandra.auth import PlainTextAuthProvider\n",
    "from cassandra.query import dict_factory\n",
    "from cassandra.query import SimpleStatement\n",
    "from getpass import getpass\n",
    "import os"
   ]
  },
  {
   "cell_type": "code",
   "execution_count": null,
   "metadata": {},
   "outputs": [],
   "source": [
    "# Collect all information required to connect to your Astra Database and OpenAI API. Also specify the model_id for generating the embeddings.\n",
    "\n",
    "ASTRA_DB_SECURE_BUNDLE_PATH = input(\"Please provide the full path to your Secure Connect Bundle zipfile: \")\n",
    "ASTRA_DB_APPLICATION_TOKEN = getpass(\"Please provide your Database Token ('AstraCS:...' string): \")\n",
    "ASTRA_DB_KEYSPACE = input(\"Please provide the Keyspace name for your Database: \")\n",
    "os.environ[\"OPENAI_API_KEY\"] = getpass(\"Please enter your OpenAI API Key: \")"
   ]
  },
  {
   "cell_type": "code",
   "execution_count": null,
   "metadata": {},
   "outputs": [],
   "source": [
    "\n",
    "# Connect to your Astra Database\n",
    "\n",
    "cluster = Cluster(\n",
    "    cloud={\n",
    "        \"secure_connect_bundle\": ASTRA_DB_SECURE_BUNDLE_PATH\n",
    "    },\n",
    "    auth_provider=PlainTextAuthProvider(\"token\", ASTRA_DB_APPLICATION_TOKEN),\n",
    ")\n",
    "\n",
    "session = cluster.connect()"
   ]
  },
  {
   "cell_type": "code",
   "execution_count": null,
   "metadata": {},
   "outputs": [],
   "source": [
    "# Read the PDF file and convert it into loadable format\n",
    "from langchain.document_loaders import PyMuPDFLoader\n",
    "\n",
    "pdffilepath = input(\"Please provide the full path to your PDF file: \")\n",
    "loader = PyMuPDFLoader(pdffilepath)\n",
    "documents = loader.load()"
   ]
  },
  {
   "cell_type": "code",
   "execution_count": null,
   "metadata": {},
   "outputs": [],
   "source": [
    "from langchain.text_splitter import CharacterTextSplitter\n",
    "\n",
    "text_splitter = CharacterTextSplitter(chunk_size=4000, chunk_overlap=2000, separator=\"\\n\\n\")\n",
    "texts = text_splitter.split_documents(documents)\n"
   ]
  },
  {
   "cell_type": "code",
   "execution_count": null,
   "metadata": {},
   "outputs": [],
   "source": [
    "from langchain.vectorstores import Cassandra\n",
    "from langchain.embeddings import OpenAIEmbeddings\n",
    "\n",
    "embeddings = OpenAIEmbeddings()\n",
    "\n",
    "table_name = \"pdftexttable\"\n",
    "pdftextsearchdb = Cassandra.from_documents(\n",
    "    documents=texts,\n",
    "    embedding=embeddings,\n",
    "    table_name=table_name,\n",
    "    keyspace=ASTRA_DB_KEYSPACE,\n",
    "    session=session,\n",
    ")"
   ]
  },
  {
   "cell_type": "code",
   "execution_count": null,
   "metadata": {},
   "outputs": [],
   "source": [
    "query = input(\"Please enter your search query: \")\n",
    "\n",
    "docs = pdftextsearchdb.similarity_search(query, k=3)"
   ]
  },
  {
   "cell_type": "code",
   "execution_count": null,
   "metadata": {},
   "outputs": [],
   "source": [
    "supporting_text = \"\"\n",
    "\n",
    "for doc in docs:\n",
    "    supporting_text = supporting_text + \"\\n\\n\" + doc.page_content\n",
    "\n",
    "print(supporting_text)"
   ]
  },
  {
   "cell_type": "code",
   "execution_count": null,
   "metadata": {},
   "outputs": [],
   "source": [
    "from langchain.prompts import ChatPromptTemplate\n",
    "from langchain.chat_models import ChatOpenAI\n",
    "\n",
    "\n",
    "chat_template = ChatPromptTemplate.from_messages([\n",
    "    (\"system\", \"You are a helpful sales person. You are helping a customer with a question. The customer asks you a question. You answer the question.\"),\n",
    "    (\"system\", \"An assistant will provide you with some supporting text. You will have to answer the question based on the supporting text.\"),\n",
    "    (\"system\", \"If the assistant does not provide you with relevant supporting text, you can ask the customer to rephrase the question.\"),\n",
    "    (\"assistant\", \"The following are some supporting text: {assistant_supporting_text}\"),\n",
    "    (\"human\", \"Hi, I have a question. {customer_question}\"),\n",
    "])\n",
    "\n",
    "messages = chat_template.format_messages(\n",
    "    assistant_supporting_text = supporting_text,\n",
    "    customer_question = query,\n",
    ")\n",
    "\n",
    "llm = ChatOpenAI(model_name=\"gpt-3.5-turbo\", temperature=0)\n",
    "response = llm(messages)\n",
    "\n",
    "print(response.content)\n"
   ]
  }
 ],
 "metadata": {
  "kernelspec": {
   "display_name": "Python 3",
   "language": "python",
   "name": "python3"
  },
  "language_info": {
   "codemirror_mode": {
    "name": "ipython",
    "version": 3
   },
   "file_extension": ".py",
   "mimetype": "text/x-python",
   "name": "python",
   "nbconvert_exporter": "python",
   "pygments_lexer": "ipython3",
   "version": "3.11.4"
  }
 },
 "nbformat": 4,
 "nbformat_minor": 2
}
